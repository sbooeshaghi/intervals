{
  "nbformat": 4,
  "nbformat_minor": 0,
  "metadata": {
    "colab": {
      "name": "bustools_merge_sim.ipynb",
      "provenance": [],
      "authorship_tag": "ABX9TyPi9r+x8jVBQaGHL98iO9Bb",
      "include_colab_link": true
    },
    "kernelspec": {
      "name": "python3",
      "display_name": "Python 3"
    }
  },
  "cells": [
    {
      "cell_type": "markdown",
      "metadata": {
        "id": "view-in-github",
        "colab_type": "text"
      },
      "source": [
        "<a href=\"https://colab.research.google.com/github/sbooeshaghi/intervals/blob/master/notebooks/bustools_merge_sim.ipynb\" target=\"_parent\"><img src=\"https://colab.research.google.com/assets/colab-badge.svg\" alt=\"Open In Colab\"/></a>"
      ]
    },
    {
      "cell_type": "code",
      "metadata": {
        "id": "OVHra0H3eE1V"
      },
      "source": [
        "import random"
      ],
      "execution_count": 1,
      "outputs": []
    },
    {
      "cell_type": "code",
      "metadata": {
        "id": "hVO8JIP42mPg"
      },
      "source": [
        "random.seed(16)"
      ],
      "execution_count": 104,
      "outputs": []
    },
    {
      "cell_type": "code",
      "metadata": {
        "id": "w5c5fwR-cuzH"
      },
      "source": [
        "def distributed_sum(val, n):\n",
        "  ret = []\n",
        "\n",
        "  remain = val%n\n",
        "  split = val//n\n",
        "  ret = [split]*n\n",
        "\n",
        "  for i in range(remain):\n",
        "    ret[i] += 1\n",
        "\n",
        "  return ret"
      ],
      "execution_count": 2,
      "outputs": []
    },
    {
      "cell_type": "code",
      "metadata": {
        "id": "EExRV3oTn5xk"
      },
      "source": [
        "def gen_itv(minimum, maximum, min_len, max_len):\n",
        "  lower = random.randint(minimum, maximum)\n",
        "  upper = random.randint(lower, maximum)\n",
        "  while upper - lower < min_len or upper - lower > max_len:\n",
        "    upper = random.randint(lower, maximum)\n",
        "\n",
        "  return (lower, upper)\n",
        "\n",
        "def gen_itvs(minimum, maximum, min_len, max_len, n):\n",
        "  itvs = []\n",
        "  for i in range(n):\n",
        "    itvs.append(gen_itv(minimum, maximum, min_len, max_len))\n",
        "  return itvs\n",
        "\n",
        "def remove_overlap(itvs):\n",
        "  srt = sorted(itvs, key=lambda x: x[0])\n",
        "  prev = srt[0]\n",
        "  new = []\n",
        "  for s in srt[1:]:\n",
        "    if prev[1] <= s[0]:\n",
        "      new.append(prev)\n",
        "      prev = s\n",
        "  new.append(prev)\n",
        "  return new"
      ],
      "execution_count": 129,
      "outputs": []
    },
    {
      "cell_type": "code",
      "metadata": {
        "id": "1lfxGQONcfLK"
      },
      "source": [
        "nf = 8\n",
        "N = 100 # bus records\n",
        "N_ec = 1000 # number of ecs\n",
        "\n",
        "max_itvs = 31 # each kmer had a diff ec\n",
        "\n",
        "rpf = distributed_sum(N, nf)\n",
        "\n",
        "# intervals\n",
        "n_itvs = 10 # must be less than 26 only because we use letters of the english alphabet to label each interval\n",
        "max_pos = 61\n",
        "min_pos = 0\n",
        "\n",
        "min_len = 1\n",
        "max_len = max_pos"
      ],
      "execution_count": 130,
      "outputs": []
    },
    {
      "cell_type": "code",
      "metadata": {
        "id": "iQA8WgDFwrzS",
        "outputId": "84245414-23d2-4b35-faeb-488d68c08562",
        "colab": {
          "base_uri": "https://localhost:8080/",
          "height": 381
        }
      },
      "source": [
        "f = []\n",
        "\n",
        "for r in rpf:\n",
        "  bd = sorted(random.sample(range(N), r))\n",
        "  tmp = []\n",
        "  for ridx in range(r):\n",
        "    intervals = gen_itvs(min_pos, max_pos, min_len, max_len, random.randint(1, n_itvs))\n",
        "    unique = remove_overlap(intervals)\n",
        "    ec = random.sample(range(N_ec), len(unique))\n",
        "    for i, e in zip(unique, ec):\n",
        "      tmp.append((bd[ridx], e, i[0]))\n",
        "      tmp.append((bd[ridx], e, i[1]))\n",
        "  f.append(tmp)"
      ],
      "execution_count": 143,
      "outputs": [
        {
          "output_type": "error",
          "ename": "KeyboardInterrupt",
          "evalue": "ignored",
          "traceback": [
            "\u001b[0;31m---------------------------------------------------------------------------\u001b[0m",
            "\u001b[0;31mKeyboardInterrupt\u001b[0m                         Traceback (most recent call last)",
            "\u001b[0;32m<ipython-input-143-05004d47b5b3>\u001b[0m in \u001b[0;36m<module>\u001b[0;34m()\u001b[0m\n\u001b[1;32m      5\u001b[0m   \u001b[0mtmp\u001b[0m \u001b[0;34m=\u001b[0m \u001b[0;34m[\u001b[0m\u001b[0;34m]\u001b[0m\u001b[0;34m\u001b[0m\u001b[0;34m\u001b[0m\u001b[0m\n\u001b[1;32m      6\u001b[0m   \u001b[0;32mfor\u001b[0m \u001b[0mridx\u001b[0m \u001b[0;32min\u001b[0m \u001b[0mrange\u001b[0m\u001b[0;34m(\u001b[0m\u001b[0mr\u001b[0m\u001b[0;34m)\u001b[0m\u001b[0;34m:\u001b[0m\u001b[0;34m\u001b[0m\u001b[0;34m\u001b[0m\u001b[0m\n\u001b[0;32m----> 7\u001b[0;31m     \u001b[0mintervals\u001b[0m \u001b[0;34m=\u001b[0m \u001b[0mgen_itvs\u001b[0m\u001b[0;34m(\u001b[0m\u001b[0mmin_pos\u001b[0m\u001b[0;34m,\u001b[0m \u001b[0mmax_pos\u001b[0m\u001b[0;34m,\u001b[0m \u001b[0mmin_len\u001b[0m\u001b[0;34m,\u001b[0m \u001b[0mmax_len\u001b[0m\u001b[0;34m,\u001b[0m \u001b[0mrandom\u001b[0m\u001b[0;34m.\u001b[0m\u001b[0mrandint\u001b[0m\u001b[0;34m(\u001b[0m\u001b[0;36m1\u001b[0m\u001b[0;34m,\u001b[0m \u001b[0mn_itvs\u001b[0m\u001b[0;34m)\u001b[0m\u001b[0;34m)\u001b[0m\u001b[0;34m\u001b[0m\u001b[0;34m\u001b[0m\u001b[0m\n\u001b[0m\u001b[1;32m      8\u001b[0m     \u001b[0munique\u001b[0m \u001b[0;34m=\u001b[0m \u001b[0mremove_overlap\u001b[0m\u001b[0;34m(\u001b[0m\u001b[0mintervals\u001b[0m\u001b[0;34m)\u001b[0m\u001b[0;34m\u001b[0m\u001b[0;34m\u001b[0m\u001b[0m\n\u001b[1;32m      9\u001b[0m     \u001b[0mec\u001b[0m \u001b[0;34m=\u001b[0m \u001b[0mrandom\u001b[0m\u001b[0;34m.\u001b[0m\u001b[0msample\u001b[0m\u001b[0;34m(\u001b[0m\u001b[0mrange\u001b[0m\u001b[0;34m(\u001b[0m\u001b[0mN_ec\u001b[0m\u001b[0;34m)\u001b[0m\u001b[0;34m,\u001b[0m \u001b[0mlen\u001b[0m\u001b[0;34m(\u001b[0m\u001b[0munique\u001b[0m\u001b[0;34m)\u001b[0m\u001b[0;34m)\u001b[0m\u001b[0;34m\u001b[0m\u001b[0;34m\u001b[0m\u001b[0m\n",
            "\u001b[0;32m<ipython-input-129-631ba27d8dbb>\u001b[0m in \u001b[0;36mgen_itvs\u001b[0;34m(minimum, maximum, min_len, max_len, n)\u001b[0m\n\u001b[1;32m     10\u001b[0m   \u001b[0mitvs\u001b[0m \u001b[0;34m=\u001b[0m \u001b[0;34m[\u001b[0m\u001b[0;34m]\u001b[0m\u001b[0;34m\u001b[0m\u001b[0;34m\u001b[0m\u001b[0m\n\u001b[1;32m     11\u001b[0m   \u001b[0;32mfor\u001b[0m \u001b[0mi\u001b[0m \u001b[0;32min\u001b[0m \u001b[0mrange\u001b[0m\u001b[0;34m(\u001b[0m\u001b[0mn\u001b[0m\u001b[0;34m)\u001b[0m\u001b[0;34m:\u001b[0m\u001b[0;34m\u001b[0m\u001b[0;34m\u001b[0m\u001b[0m\n\u001b[0;32m---> 12\u001b[0;31m     \u001b[0mitvs\u001b[0m\u001b[0;34m.\u001b[0m\u001b[0mappend\u001b[0m\u001b[0;34m(\u001b[0m\u001b[0mgen_itv\u001b[0m\u001b[0;34m(\u001b[0m\u001b[0mminimum\u001b[0m\u001b[0;34m,\u001b[0m \u001b[0mmaximum\u001b[0m\u001b[0;34m,\u001b[0m \u001b[0mmin_len\u001b[0m\u001b[0;34m,\u001b[0m \u001b[0mmax_len\u001b[0m\u001b[0;34m)\u001b[0m\u001b[0;34m)\u001b[0m\u001b[0;34m\u001b[0m\u001b[0;34m\u001b[0m\u001b[0m\n\u001b[0m\u001b[1;32m     13\u001b[0m   \u001b[0;32mreturn\u001b[0m \u001b[0mitvs\u001b[0m\u001b[0;34m\u001b[0m\u001b[0;34m\u001b[0m\u001b[0m\n\u001b[1;32m     14\u001b[0m \u001b[0;34m\u001b[0m\u001b[0m\n",
            "\u001b[0;32m<ipython-input-129-631ba27d8dbb>\u001b[0m in \u001b[0;36mgen_itv\u001b[0;34m(minimum, maximum, min_len, max_len)\u001b[0m\n\u001b[1;32m      3\u001b[0m   \u001b[0mupper\u001b[0m \u001b[0;34m=\u001b[0m \u001b[0mrandom\u001b[0m\u001b[0;34m.\u001b[0m\u001b[0mrandint\u001b[0m\u001b[0;34m(\u001b[0m\u001b[0mlower\u001b[0m\u001b[0;34m,\u001b[0m \u001b[0mmaximum\u001b[0m\u001b[0;34m)\u001b[0m\u001b[0;34m\u001b[0m\u001b[0;34m\u001b[0m\u001b[0m\n\u001b[1;32m      4\u001b[0m   \u001b[0;32mwhile\u001b[0m \u001b[0mupper\u001b[0m \u001b[0;34m-\u001b[0m \u001b[0mlower\u001b[0m \u001b[0;34m<\u001b[0m \u001b[0mmin_len\u001b[0m \u001b[0;32mor\u001b[0m \u001b[0mupper\u001b[0m \u001b[0;34m-\u001b[0m \u001b[0mlower\u001b[0m \u001b[0;34m>\u001b[0m \u001b[0mmax_len\u001b[0m\u001b[0;34m:\u001b[0m\u001b[0;34m\u001b[0m\u001b[0;34m\u001b[0m\u001b[0m\n\u001b[0;32m----> 5\u001b[0;31m     \u001b[0mupper\u001b[0m \u001b[0;34m=\u001b[0m \u001b[0mrandom\u001b[0m\u001b[0;34m.\u001b[0m\u001b[0mrandint\u001b[0m\u001b[0;34m(\u001b[0m\u001b[0mlower\u001b[0m\u001b[0;34m,\u001b[0m \u001b[0mmaximum\u001b[0m\u001b[0;34m)\u001b[0m\u001b[0;34m\u001b[0m\u001b[0;34m\u001b[0m\u001b[0m\n\u001b[0m\u001b[1;32m      6\u001b[0m \u001b[0;34m\u001b[0m\u001b[0m\n\u001b[1;32m      7\u001b[0m   \u001b[0;32mreturn\u001b[0m \u001b[0;34m(\u001b[0m\u001b[0mlower\u001b[0m\u001b[0;34m,\u001b[0m \u001b[0mupper\u001b[0m\u001b[0;34m)\u001b[0m\u001b[0;34m\u001b[0m\u001b[0;34m\u001b[0m\u001b[0m\n",
            "\u001b[0;31mKeyboardInterrupt\u001b[0m: "
          ]
        }
      ]
    },
    {
      "cell_type": "code",
      "metadata": {
        "id": "bX2RYSL1c9xp",
        "outputId": "64449c34-efb8-4db0-f903-314186406487",
        "colab": {
          "base_uri": "https://localhost:8080/",
          "height": 235
        }
      },
      "source": [
        "# check the values\n",
        "import pandas as pd\n",
        "pd.Series(tmp).value_counts()"
      ],
      "execution_count": null,
      "outputs": [
        {
          "output_type": "execute_result",
          "data": {
            "text/plain": [
              "44    54\n",
              "39    52\n",
              "77    48\n",
              "13    48\n",
              "68    46\n",
              "10    42\n",
              "41    38\n",
              "37    32\n",
              "45    24\n",
              "83    22\n",
              "61    22\n",
              "74    12\n",
              "dtype: int64"
            ]
          },
          "metadata": {
            "tags": []
          },
          "execution_count": 8
        }
      ]
    },
    {
      "cell_type": "markdown",
      "metadata": {
        "id": "1HsDqcMIgZvm"
      },
      "source": [
        "file  1\n",
        "(r1, ec1)\n",
        "(r1, ec1)\n",
        "\n",
        "ec pairs must be in pairs of two"
      ]
    },
    {
      "cell_type": "code",
      "metadata": {
        "id": "AgUiLGBVeUHk"
      },
      "source": [
        ""
      ],
      "execution_count": null,
      "outputs": []
    }
  ]
}