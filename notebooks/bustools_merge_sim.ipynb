{
  "nbformat": 4,
  "nbformat_minor": 0,
  "metadata": {
    "colab": {
      "name": "bustools_merge_sim.ipynb",
      "provenance": [],
      "authorship_tag": "ABX9TyNv2wQL90DtklKSZpv1snXH",
      "include_colab_link": true
    },
    "kernelspec": {
      "name": "python3",
      "display_name": "Python 3"
    }
  },
  "cells": [
    {
      "cell_type": "markdown",
      "metadata": {
        "id": "view-in-github",
        "colab_type": "text"
      },
      "source": [
        "<a href=\"https://colab.research.google.com/github/sbooeshaghi/intervals/blob/master/notebooks/bustools_merge_sim.ipynb\" target=\"_parent\"><img src=\"https://colab.research.google.com/assets/colab-badge.svg\" alt=\"Open In Colab\"/></a>"
      ]
    },
    {
      "cell_type": "code",
      "metadata": {
        "id": "OVHra0H3eE1V"
      },
      "source": [
        "import random"
      ],
      "execution_count": 1,
      "outputs": []
    },
    {
      "cell_type": "code",
      "metadata": {
        "id": "w5c5fwR-cuzH"
      },
      "source": [
        "def distributed_sum(val, n):\n",
        "  ret = []\n",
        "\n",
        "  remain = val%n\n",
        "  split = val//n\n",
        "  ret = [split]*n\n",
        "\n",
        "  for i in range(remain):\n",
        "    ret[i] += 1\n",
        "\n",
        "  return ret"
      ],
      "execution_count": 2,
      "outputs": []
    },
    {
      "cell_type": "code",
      "metadata": {
        "id": "1lfxGQONcfLK"
      },
      "source": [
        "nf = 8\n",
        "N = 10_0 # bus records\n",
        "N_ec = 1000 # number of ecs\n",
        "\n",
        "max_itvs = 31 # each kmer had a diff ec\n",
        "\n",
        "rpf = distributed_sum(N, nf)\n"
      ],
      "execution_count": 3,
      "outputs": []
    },
    {
      "cell_type": "code",
      "metadata": {
        "id": "PM949qOdc9Ns"
      },
      "source": [
        "for r in rpf:\n",
        "  bd = random.sample(range(N), r)\n",
        "  tmp = []\n",
        "  for i in bd:\n",
        "    tmp+=[i]*2*random.randint(0, max_itvs)"
      ],
      "execution_count": 6,
      "outputs": []
    },
    {
      "cell_type": "code",
      "metadata": {
        "id": "bX2RYSL1c9xp",
        "outputId": "64449c34-efb8-4db0-f903-314186406487",
        "colab": {
          "base_uri": "https://localhost:8080/",
          "height": 235
        }
      },
      "source": [
        "# check the values\n",
        "import pandas as pd\n",
        "pd.Series(tmp).value_counts()"
      ],
      "execution_count": 8,
      "outputs": [
        {
          "output_type": "execute_result",
          "data": {
            "text/plain": [
              "44    54\n",
              "39    52\n",
              "77    48\n",
              "13    48\n",
              "68    46\n",
              "10    42\n",
              "41    38\n",
              "37    32\n",
              "45    24\n",
              "83    22\n",
              "61    22\n",
              "74    12\n",
              "dtype: int64"
            ]
          },
          "metadata": {
            "tags": []
          },
          "execution_count": 8
        }
      ]
    },
    {
      "cell_type": "markdown",
      "metadata": {
        "id": "1HsDqcMIgZvm"
      },
      "source": [
        "file  1\n",
        "(r1, ec1)\n",
        "(r1, ec1)\n",
        "\n",
        "ec pairs must be in pairs of two"
      ]
    },
    {
      "cell_type": "code",
      "metadata": {
        "id": "AgUiLGBVeUHk"
      },
      "source": [
        ""
      ],
      "execution_count": null,
      "outputs": []
    }
  ]
}