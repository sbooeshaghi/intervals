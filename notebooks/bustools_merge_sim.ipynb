{
  "nbformat": 4,
  "nbformat_minor": 0,
  "metadata": {
    "colab": {
      "name": "bustools_merge_sim.ipynb",
      "provenance": [],
      "authorship_tag": "ABX9TyMQsnddcfC34DibS/tC6E9+",
      "include_colab_link": true
    },
    "kernelspec": {
      "name": "python3",
      "display_name": "Python 3"
    }
  },
  "cells": [
    {
      "cell_type": "markdown",
      "metadata": {
        "id": "view-in-github",
        "colab_type": "text"
      },
      "source": [
        "<a href=\"https://colab.research.google.com/github/sbooeshaghi/intervals/blob/master/notebooks/bustools_merge_sim.ipynb\" target=\"_parent\"><img src=\"https://colab.research.google.com/assets/colab-badge.svg\" alt=\"Open In Colab\"/></a>"
      ]
    },
    {
      "cell_type": "code",
      "metadata": {
        "id": "OVHra0H3eE1V"
      },
      "source": [
        "import random"
      ],
      "execution_count": 1,
      "outputs": []
    },
    {
      "cell_type": "code",
      "metadata": {
        "id": "hVO8JIP42mPg"
      },
      "source": [
        "random.seed(16)"
      ],
      "execution_count": 2,
      "outputs": []
    },
    {
      "cell_type": "code",
      "metadata": {
        "id": "w5c5fwR-cuzH"
      },
      "source": [
        "def distributed_sum(val, n):\n",
        "  ret = []\n",
        "\n",
        "  remain = val%n\n",
        "  split = val//n\n",
        "  ret = [split]*n\n",
        "\n",
        "  for i in range(remain):\n",
        "    ret[i] += 1\n",
        "\n",
        "  return ret"
      ],
      "execution_count": 3,
      "outputs": []
    },
    {
      "cell_type": "code",
      "metadata": {
        "id": "EExRV3oTn5xk"
      },
      "source": [
        "def gen_itv(minimum, maximum, min_len, max_len):\n",
        "  lower = random.randint(minimum, maximum-1)\n",
        "  upper = random.randint(lower, maximum)\n",
        "  while upper - lower < min_len or upper - lower > max_len:\n",
        "    upper = random.randint(lower, maximum)\n",
        "\n",
        "  return (lower, upper)\n",
        "\n",
        "def gen_itvs(minimum, maximum, min_len, max_len, n):\n",
        "  itvs = []\n",
        "  for i in range(n):\n",
        "    itvs.append(gen_itv(minimum, maximum, min_len, max_len))\n",
        "  return itvs\n",
        "\n",
        "def remove_overlap(itvs):\n",
        "  srt = sorted(itvs, key=lambda x: x[0])\n",
        "  prev = srt[0]\n",
        "  new = []\n",
        "  for s in srt[1:]:\n",
        "    if prev[1] <= s[0]:\n",
        "      new.append(prev)\n",
        "      prev = s\n",
        "  new.append(prev)\n",
        "  return new"
      ],
      "execution_count": 8,
      "outputs": []
    },
    {
      "cell_type": "code",
      "metadata": {
        "id": "1lfxGQONcfLK"
      },
      "source": [
        "nf = 8\n",
        "N = 100 # bus records\n",
        "N_ec = 1000 # number of ecs\n",
        "\n",
        "max_itvs = 31 # each kmer had a diff ec\n",
        "\n",
        "rpf = distributed_sum(N, nf)\n",
        "\n",
        "# intervals\n",
        "n_itvs = 5 # must be less than 26 only because we use letters of the english alphabet to label each interval\n",
        "max_pos = 61\n",
        "min_pos = 0\n",
        "\n",
        "min_len = 1\n",
        "max_len = max_pos"
      ],
      "execution_count": 9,
      "outputs": []
    },
    {
      "cell_type": "code",
      "metadata": {
        "id": "iQA8WgDFwrzS"
      },
      "source": [
        "f = []\n",
        "\n",
        "for r in rpf:\n",
        "  bd = sorted(random.sample(range(N), r))\n",
        "  tmp = []\n",
        "  for ridx in range(r):\n",
        "    intervals = gen_itvs(min_pos, max_pos, min_len, max_len, random.randint(1, n_itvs))\n",
        "    unique = remove_overlap(intervals)\n",
        "    ec = random.sample(range(N_ec), len(unique))\n",
        "    for i, e in zip(unique, ec):\n",
        "      tmp.append((bd[ridx], e, i[0]))\n",
        "      tmp.append((bd[ridx], e, i[1]))\n",
        "  f.append(tmp)"
      ],
      "execution_count": 10,
      "outputs": []
    },
    {
      "cell_type": "markdown",
      "metadata": {
        "id": "d-8_of_1NlUK"
      },
      "source": [
        "# Write data to text files"
      ]
    },
    {
      "cell_type": "code",
      "metadata": {
        "id": "Shr22wjENn1S"
      },
      "source": [
        "import contextlib"
      ],
      "execution_count": null,
      "outputs": []
    },
    {
      "cell_type": "code",
      "metadata": {
        "id": "Txxrrnl8MgOi"
      },
      "source": [
        "filenames = [f\"{i}.txt\" for i in range(nf)]"
      ],
      "execution_count": 25,
      "outputs": []
    },
    {
      "cell_type": "code",
      "metadata": {
        "id": "AgUiLGBVeUHk"
      },
      "source": [
        "with contextlib.ExitStack() as stack:\n",
        "    files = [stack.enter_context(open(fname, 'w')) for fname in filenames]\n",
        "    for outf, fdata in zip(files, f):\n",
        "      for d in fdata:\n",
        "        outf.write(f\"{d[0]}\\t{d[1]}\\t{d[2]}\\n\")"
      ],
      "execution_count": 30,
      "outputs": []
    },
    {
      "cell_type": "code",
      "metadata": {
        "id": "krvVmPEeM5hl"
      },
      "source": [
        ""
      ],
      "execution_count": null,
      "outputs": []
    },
    {
      "cell_type": "markdown",
      "metadata": {
        "id": "GBPWIP--NpsR"
      },
      "source": [
        "# Read in files"
      ]
    },
    {
      "cell_type": "code",
      "metadata": {
        "id": "H6RFCbLiRPXL"
      },
      "source": [
        "import heapq"
      ],
      "execution_count": 32,
      "outputs": []
    },
    {
      "cell_type": "code",
      "metadata": {
        "id": "zIVTbcyRYrNJ"
      },
      "source": [
        "import os"
      ],
      "execution_count": 102,
      "outputs": []
    },
    {
      "cell_type": "code",
      "metadata": {
        "id": "04FN7cC1SEH7"
      },
      "source": [
        ""
      ],
      "execution_count": 124,
      "outputs": []
    },
    {
      "cell_type": "code",
      "metadata": {
        "id": "V3npIVw7NrlX",
        "outputId": "49f6ba6d-1018-4233-bd80-84ff46b9e5f6",
        "colab": {
          "base_uri": "https://localhost:8080/",
          "height": 971
        }
      },
      "source": [
        "pq = []\n",
        "with contextlib.ExitStack() as stack:\n",
        "    files = [stack.enter_context(open(fname, 'r')) for fname in filenames]\n",
        "    for fidx, fin in enumerate(files):\n",
        "      l = tuple(map(int, fin.readline().strip().split('\\t')))\n",
        "      r = l[0]\n",
        "      e = l[1]\n",
        "      i = l[2]\n",
        "      rold = r\n",
        "      # this reads in a single read\n",
        "      while rold == l[0]:\n",
        "\n",
        "        heapq.heappush(pq, (r, (e, i), fidx) )\n",
        "        rin = fin.readline()\n",
        "\n",
        "        l = tuple(map(int, rin.strip().split('\\t')))\n",
        "        r = l[0]\n",
        "        e = l[1]\n",
        "        i = l[2]\n",
        "      fin.seek(fin.tell() - len(rin), os.SEEK_SET)\n",
        "\n",
        "    #######\n",
        "    prev = heapq.heappop(pq)\n",
        "    while len(pq)>0:\n",
        "      readfrom = set()\n",
        "      curr = heapq.heappop(pq)\n",
        "      while prev[0] == curr[0] and len(pq)>0:\n",
        "        readfrom.add(prev[-1])\n",
        "        curr = heapq.heappop(pq)\n",
        "        \n",
        "        prev = curr\n",
        "        print(curr)\n",
        "      print(\"-----------------\")\n",
        "\n",
        "      for file_idx in readfrom:\n",
        "        if rin ==  '':\n",
        "            break\n",
        "        l = tuple(map(int, files[file_idx].readline().strip().split('\\t')))\n",
        "        r = l[0]\n",
        "        e = l[1]\n",
        "        i = l[2]\n",
        "        rold = r\n",
        "        # this reads in a single read\n",
        "        while rold == l[0]:\n",
        "\n",
        "          heapq.heappush(pq, (r, (e, i), file_idx) )\n",
        "\n",
        "          rin = files[file_idx].readline()\n",
        "          if rin ==  '':\n",
        "            break\n",
        "\n",
        "          l = tuple(map(int, rin.strip().split('\\t')))\n",
        "          r = l[0]\n",
        "          e = l[1]\n",
        "          i = l[2]\n",
        "        files[file_idx].seek(files[file_idx].tell() - len(rin), os.SEEK_SET)\n",
        "\n",
        "\n",
        "      \n"
      ],
      "execution_count": 149,
      "outputs": [
        {
          "output_type": "stream",
          "text": [
            "(0, (789, 27), 2)\n",
            "(0, (789, 52), 2)\n",
            "(1, (51, 51), 0)\n",
            "(1, (51, 52), 0)\n",
            "(1, (405, 10), 0)\n",
            "(1, (405, 42), 0)\n",
            "(3, (15, 16), 1)\n",
            "(3, (15, 46), 1)\n",
            "(3, (305, 51), 1)\n",
            "(3, (305, 57), 1)\n",
            "(3, (843, 0), 7)\n",
            "(3, (843, 35), 7)\n",
            "(3, (910, 46), 7)\n",
            "(3, (910, 52), 7)\n",
            "(7, (289, 25), 4)\n",
            "(7, (289, 39), 4)\n",
            "(7, (500, 60), 4)\n",
            "(7, (500, 61), 4)\n",
            "(10, (183, 57), 5)\n",
            "(10, (183, 60), 5)\n",
            "(13, (86, 46), 6)\n",
            "(13, (86, 61), 6)\n",
            "(13, (436, 23), 6)\n",
            "(13, (436, 39), 6)\n",
            "(18, (444, 0), 3)\n",
            "(18, (444, 55), 3)\n",
            "(18, (692, 60), 3)\n",
            "(18, (692, 61), 3)\n",
            "-----------------\n",
            "-----------------\n",
            "-----------------\n",
            "-----------------\n",
            "-----------------\n",
            "-----------------\n",
            "-----------------\n",
            "-----------------\n",
            "-----------------\n",
            "-----------------\n",
            "-----------------\n",
            "-----------------\n",
            "-----------------\n",
            "-----------------\n",
            "-----------------\n",
            "-----------------\n",
            "-----------------\n",
            "-----------------\n",
            "-----------------\n",
            "-----------------\n",
            "-----------------\n",
            "-----------------\n",
            "-----------------\n",
            "-----------------\n",
            "-----------------\n",
            "-----------------\n",
            "-----------------\n"
          ],
          "name": "stdout"
        }
      ]
    },
    {
      "cell_type": "code",
      "metadata": {
        "id": "-GTf4LPfhS9i"
      },
      "source": [
        ""
      ],
      "execution_count": null,
      "outputs": []
    },
    {
      "cell_type": "code",
      "metadata": {
        "id": "Ym63n3riUVm0",
        "outputId": "3c230005-90cf-4668-917f-997126e310a4",
        "colab": {
          "base_uri": "https://localhost:8080/",
          "height": 35
        }
      },
      "source": [
        ""
      ],
      "execution_count": 139,
      "outputs": [
        {
          "output_type": "execute_result",
          "data": {
            "application/vnd.google.colaboratory.intrinsic+json": {
              "type": "string"
            },
            "text/plain": [
              "''"
            ]
          },
          "metadata": {
            "tags": []
          },
          "execution_count": 139
        }
      ]
    },
    {
      "cell_type": "code",
      "metadata": {
        "id": "7lRF5EoQe0bM"
      },
      "source": [
        ""
      ],
      "execution_count": null,
      "outputs": []
    }
  ]
}