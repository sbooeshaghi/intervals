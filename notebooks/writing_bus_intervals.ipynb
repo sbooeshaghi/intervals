{
  "nbformat": 4,
  "nbformat_minor": 0,
  "metadata": {
    "colab": {
      "name": "writing_bus_intervals.ipynb",
      "provenance": [],
      "collapsed_sections": [],
      "authorship_tag": "ABX9TyMeotKZfv8wal9arQy4bAfg",
      "include_colab_link": true
    },
    "kernelspec": {
      "name": "python3",
      "display_name": "Python 3"
    }
  },
  "cells": [
    {
      "cell_type": "markdown",
      "metadata": {
        "id": "view-in-github",
        "colab_type": "text"
      },
      "source": [
        "<a href=\"https://colab.research.google.com/github/sbooeshaghi/intervals/blob/master/notebooks/writing_bus_intervals.ipynb\" target=\"_parent\"><img src=\"https://colab.research.google.com/assets/colab-badge.svg\" alt=\"Open In Colab\"/></a>"
      ]
    },
    {
      "cell_type": "markdown",
      "metadata": {
        "id": "_Stz-PSTxWj-",
        "colab_type": "text"
      },
      "source": [
        "# Generating BUS records from Kmer Entries"
      ]
    },
    {
      "cell_type": "code",
      "metadata": {
        "id": "LTIMU-ir56Sj",
        "colab_type": "code",
        "colab": {}
      },
      "source": [
        "# test cases\n",
        "\n",
        "v = [(\"A\", 0),  # 0\n",
        "     (\"A\", 3),  # 1\n",
        "     (\"B\", 5),  # 2\n",
        "     (\"C\", 10), # 3\n",
        "     (\"C\", 13), # 4\n",
        "     (\"D\", 16), # 5\n",
        "     (\"E\", 17)] # 6 \n",
        "\n",
        "v = [(\"A\", 0),\n",
        "     (\"A\", 3),\n",
        "     (\"B\", 5)]\n",
        "\n",
        "v = [(\"A\", 0),\n",
        "     (\"B\", 3)]\n",
        "\n",
        "ans = {\"A\": (0, 4),\n",
        "       \"B\": (5, 6),\n",
        "       \"C\": (10, 14),\n",
        "       \"D\": (16, 17),\n",
        "       \"E\": (17, 18)}"
      ],
      "execution_count": 89,
      "outputs": []
    },
    {
      "cell_type": "code",
      "metadata": {
        "id": "azib6aXzBwDd",
        "colab_type": "code",
        "colab": {
          "base_uri": "https://localhost:8080/",
          "height": 52
        },
        "outputId": "12929580-b012-43e9-bd9a-39a862d096fd"
      },
      "source": [
        "prev = v[0]\n",
        "idx = 1\n",
        "while idx < len(v):\n",
        "  curr = v[idx]\n",
        "\n",
        "  if prev[0] == curr[0]: # if same, then they form interval\n",
        "\n",
        "    print(prev[0], (prev[1], v[idx][1]+1)) # print the interval\n",
        "\n",
        "    idx += 2 # advance to next two\n",
        "    if idx - 1 < len(v):\n",
        "      prev = v[idx-1]\n",
        "  else: # They are different and the first guy is a sole kmer\n",
        "    print(prev[0], (prev[1], prev[1]+1))\n",
        "    prev = v[idx]\n",
        "    idx += 1\n",
        "\n",
        "  if idx == len(v): # get the straggler\n",
        "    print(v[idx-1][0], (v[idx-1][1], v[idx-1][1]+1))\n",
        "\n",
        "  "
      ],
      "execution_count": 90,
      "outputs": [
        {
          "output_type": "stream",
          "text": [
            "A (0, 1)\n",
            "B (3, 4)\n"
          ],
          "name": "stdout"
        }
      ]
    },
    {
      "cell_type": "code",
      "metadata": {
        "id": "h2CpX0OlwYhL",
        "colab_type": "code",
        "colab": {
          "base_uri": "https://localhost:8080/",
          "height": 35
        },
        "outputId": "80895421-4434-452f-8d64-a660d02862de"
      },
      "source": [
        "ans"
      ],
      "execution_count": 69,
      "outputs": [
        {
          "output_type": "execute_result",
          "data": {
            "text/plain": [
              "{'A': (0, 4), 'B': (5, 6), 'C': (10, 14), 'D': (16, 17), 'E': (17, 18)}"
            ]
          },
          "metadata": {
            "tags": []
          },
          "execution_count": 69
        }
      ]
    },
    {
      "cell_type": "code",
      "metadata": {
        "id": "_s9PdOgrBpSu",
        "colab_type": "code",
        "colab": {}
      },
      "source": [
        ""
      ],
      "execution_count": null,
      "outputs": []
    }
  ]
}