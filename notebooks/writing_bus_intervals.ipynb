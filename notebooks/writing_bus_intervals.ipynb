{
  "nbformat": 4,
  "nbformat_minor": 0,
  "metadata": {
    "colab": {
      "name": "writing_bus_intervals.ipynb",
      "provenance": [],
      "collapsed_sections": [],
      "authorship_tag": "ABX9TyNtRighvmYLwhdnePQxNoAj",
      "include_colab_link": true
    },
    "kernelspec": {
      "name": "python3",
      "display_name": "Python 3"
    }
  },
  "cells": [
    {
      "cell_type": "markdown",
      "metadata": {
        "id": "view-in-github",
        "colab_type": "text"
      },
      "source": [
        "<a href=\"https://colab.research.google.com/github/sbooeshaghi/intervals/blob/master/notebooks/writing_bus_intervals.ipynb\" target=\"_parent\"><img src=\"https://colab.research.google.com/assets/colab-badge.svg\" alt=\"Open In Colab\"/></a>"
      ]
    },
    {
      "cell_type": "markdown",
      "metadata": {
        "id": "_Stz-PSTxWj-",
        "colab_type": "text"
      },
      "source": [
        "# Generating BUS records from Kmer Entries"
      ]
    },
    {
      "cell_type": "code",
      "metadata": {
        "id": "LTIMU-ir56Sj",
        "colab_type": "code",
        "colab": {}
      },
      "source": [
        "# test cases\n",
        "\n",
        "\n",
        "\n",
        "v = [(\"A\", 0),\n",
        "     (\"A\", 3),\n",
        "     (\"B\", 5)]\n",
        "\n",
        "v = [(\"A\", 0),\n",
        "     (\"B\", 3)]\n",
        "\n",
        "v = [(\"A\", 0),  # 0\n",
        "     (\"A\", 3),  # 1\n",
        "     (\"B\", 5),  # 2\n",
        "     (\"C\", 10), # 3\n",
        "     (\"C\", 13), # 4\n",
        "     (\"D\", 16), # 5\n",
        "     (\"E\", 17), # 6 \n",
        "     (\"E\", 20),\n",
        "     (\"E\", 21),\n",
        "     (\"E\", 25)]\n",
        "\n",
        "ans = {\"A\": (0, 4),\n",
        "\"B\": (5, 6),\n",
        "\"C\": (10, 14),\n",
        "\"D\": (16, 17),\n",
        "\"E1\": (17, 21),\n",
        "\"E2\": (21, 26)}"
      ],
      "execution_count": 99,
      "outputs": []
    },
    {
      "cell_type": "code",
      "metadata": {
        "id": "azib6aXzBwDd",
        "colab_type": "code",
        "colab": {
          "base_uri": "https://localhost:8080/",
          "height": 121
        },
        "outputId": "ddefb620-0e6d-490d-9372-ab4beeb94d2b"
      },
      "source": [
        "idx = 0\n",
        "prev = v[idx]\n",
        "idx += 1\n",
        "while idx < len(v):\n",
        "  curr = v[idx]\n",
        "\n",
        "  if prev[0] == curr[0]: # if same, then they form interval\n",
        "\n",
        "    print(prev[0], (prev[1], curr[1]+1)) # print the interval\n",
        "\n",
        "    idx += 2 # advance to next two\n",
        "    if idx - 1 < len(v):\n",
        "      prev = v[idx-1]\n",
        "  else: # They are different and the first guy is a sole kmer\n",
        "    print(prev[0], (prev[1], prev[1]+1))\n",
        "    prev = curr\n",
        "    idx += 1\n",
        "\n",
        "  if idx == len(v): # get the straggler\n",
        "    print(v[idx-1][0], (v[idx-1][1], v[idx-1][1]+1))\n",
        "\n",
        "  "
      ],
      "execution_count": 101,
      "outputs": [
        {
          "output_type": "stream",
          "text": [
            "A (0, 4)\n",
            "B (5, 6)\n",
            "C (10, 14)\n",
            "D (16, 17)\n",
            "E (17, 21)\n",
            "E (21, 26)\n"
          ],
          "name": "stdout"
        }
      ]
    },
    {
      "cell_type": "code",
      "metadata": {
        "id": "h2CpX0OlwYhL",
        "colab_type": "code",
        "colab": {
          "base_uri": "https://localhost:8080/",
          "height": 121
        },
        "outputId": "30910855-3264-4091-a2ca-fa0a5f1729cd"
      },
      "source": [
        "ans"
      ],
      "execution_count": 100,
      "outputs": [
        {
          "output_type": "execute_result",
          "data": {
            "text/plain": [
              "{'A': (0, 4),\n",
              " 'B': (5, 6),\n",
              " 'C': (10, 14),\n",
              " 'D': (16, 17),\n",
              " 'E1': (17, 21),\n",
              " 'E2': (21, 26)}"
            ]
          },
          "metadata": {
            "tags": []
          },
          "execution_count": 100
        }
      ]
    },
    {
      "cell_type": "code",
      "metadata": {
        "id": "_s9PdOgrBpSu",
        "colab_type": "code",
        "colab": {}
      },
      "source": [
        ""
      ],
      "execution_count": null,
      "outputs": []
    }
  ]
}